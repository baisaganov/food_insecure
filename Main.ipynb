{
 "cells": [
  {
   "cell_type": "markdown",
   "id": "9d9ccb0f",
   "metadata": {},
   "source": [
    "# \"Изменения продовольственной безопасности в странах Центральной Азии с 2014 по 2017 год\""
   ]
  },
  {
   "cell_type": "code",
   "execution_count": 1,
   "id": "5ec9b27f",
   "metadata": {},
   "outputs": [],
   "source": [
    "import pyreadr\n",
    "import os\n",
    "import pandas\n",
    "import numpy as np\n",
    "import matplotlib.pyplot as plt\n",
    "from matplotlib import style"
   ]
  },
  {
   "cell_type": "markdown",
   "id": "768b4ac3",
   "metadata": {},
   "source": [
    "### Global variables"
   ]
  },
  {
   "cell_type": "code",
   "execution_count": 2,
   "id": "86a85dc9",
   "metadata": {},
   "outputs": [],
   "source": [
    "fAdMod_Sev = 0\n",
    "fAdSev = 0\n",
    "popAdSev = 0\n",
    "popAdMod_Sev = 0\n",
    "populationAd = 0\n",
    "\n",
    "fChildMod_Sev, popChildMod_Sev = 0, 0\n",
    "fChildSev, popChildSev, populationChild = 0, 0, 0\n",
    "fTotalModSev, fTotalSev = 0, 0\n",
    "popTotalModSev, popTotalSev = 0, 0\n",
    "\n",
    "centralAsiaDataFramesArray = []\n",
    "centralAsia = None\n",
    "\n",
    "foodTotalModSevDict = {}"
   ]
  },
  {
   "cell_type": "markdown",
   "id": "b61b16e2",
   "metadata": {},
   "source": [
    "### Formulas to calculate Adults food insecure."
   ]
  },
  {
   "cell_type": "code",
   "execution_count": 3,
   "id": "9a180b71",
   "metadata": {},
   "outputs": [],
   "source": [
    "def popAdMod_SevFunc(dataframe, fAdultModSev):\n",
    "    global popAdMod_Sev, popAdMod_Sev\n",
    "    population = dataframe[\"N_adults\"].astype(\"int\").sum()\n",
    "    popAdMod_Sev = fAdultModSev * population\n",
    "    print(f\"Pop AdultModSev = {popAdMod_Sev}\")\n",
    "    return popAdMod_Sev"
   ]
  },
  {
   "cell_type": "code",
   "execution_count": 4,
   "id": "c25fce05",
   "metadata": {},
   "outputs": [],
   "source": [
    "def popAdSevFunc(dataframe, fAdultSev):\n",
    "    global populationAd\n",
    "    populationAd = dataframe[\"N_adults\"].astype(\"int\").sum()\n",
    "    popSev = fAdultSev * populationAd\n",
    "    print(f\"Pop AdultSev = {popSev}\")\n",
    "    return popSev"
   ]
  },
  {
   "cell_type": "code",
   "execution_count": 5,
   "id": "25e75630",
   "metadata": {},
   "outputs": [],
   "source": [
    "def calculateAdultFoodAtModAndSev(dataframe):\n",
    "    global fAdMod_Sev\n",
    "    dataframe[\"Prob_Mod_Sev\"].fillna(dataframe[\"Prob_Mod_Sev\"].notnull().astype(\"float\").mean(), inplace=True)\n",
    "    dataframe[\"wt\"].fillna(dataframe[\"wt\"].notnull().astype(\"float\").mean(), inplace=True)\n",
    "\n",
    "    fAdMod_Sev = (dataframe[\"Prob_Mod_Sev\"].astype(\"float\") *\n",
    "                 dataframe[\"wt\"].astype(\"float\")).sum() / dataframe[\"wt\"].astype(\"float\").sum()\n",
    "    print(f\"F AdultModSev = {fAdMod_Sev}\")\n",
    "    popAdMod_SevFunc(dataframe, fAdMod_Sev)\n",
    "    return dataframe"
   ]
  },
  {
   "cell_type": "code",
   "execution_count": 6,
   "id": "3799c750",
   "metadata": {},
   "outputs": [],
   "source": [
    "def calculateAdultFoodAtSev(dataframe):\n",
    "    global fAdSev\n",
    "    dataframe[\"Prob_sev\"].fillna(dataframe[\"Prob_sev\"].notnull().astype(\"float\").mean(), inplace=True)\n",
    "    dataframe[\"wt\"].fillna(dataframe[\"wt\"].notnull().astype(\"float\").mean(), inplace=True)\n",
    "\n",
    "    fAdSev = (dataframe[\"Prob_sev\"].astype(\"float\") *\n",
    "              dataframe[\"wt\"].astype(\"float\")).sum() / dataframe[\"wt\"].astype(\"float\").sum()\n",
    "\n",
    "    print(f\"F AdultSev = {fAdSev}\")\n",
    "    pop = popAdSevFunc(dataframe, fAdSev)\n",
    "    return dataframe"
   ]
  },
  {
   "cell_type": "markdown",
   "id": "27199f36",
   "metadata": {},
   "source": [
    "### Formulas to calculate Child food insecure."
   ]
  },
  {
   "cell_type": "code",
   "execution_count": 7,
   "id": "6c96d004",
   "metadata": {},
   "outputs": [],
   "source": [
    "def calculateChildrenWeight(dataframe):\n",
    "    dataframe[\"N_child\"] = np.where((dataframe.N_child == \"10+\"), 10, dataframe.N_child)\n",
    "    dataframe[\"N_adults\"] = np.where((dataframe.N_adults == \"10+\"), 10, dataframe.N_adults)\n",
    "\n",
    "    dataframe[\"N_child\"] = np.where((dataframe.N_child == \"\"), 0, dataframe.N_child)\n",
    "    dataframe[\"N_adults\"] = np.where((dataframe.N_adults == \"\"), 0, dataframe.N_adults)\n",
    "\n",
    "    dataframe[\"N_child\"].fillna(dataframe[\"N_child\"].notnull().astype(\"float\").mean(), inplace=True)\n",
    "    dataframe[\"N_adults\"].fillna(dataframe[\"N_child\"].notnull().astype(\"float\").mean(), inplace=True)\n",
    "\n",
    "    dataframe[\"Wt_child\"] = (dataframe[\"wt\"] /\n",
    "                             dataframe[\"N_adults\"].astype(\"float\")) * dataframe[\"N_child\"].astype(\"float\")\n",
    "    return dataframe"
   ]
  },
  {
   "cell_type": "code",
   "execution_count": 8,
   "id": "856f27be",
   "metadata": {},
   "outputs": [],
   "source": [
    "def popChildMod_SevFunc(dataframe, fChildModSev):\n",
    "    global populationChild, popChildMod_Sev\n",
    "    populationChild = dataframe[\"N_child\"].astype(\"int\").sum()\n",
    "    popChildMod_Sev = fChildModSev * populationChild\n",
    "    print(f\"Pop ChildModSev = {popChildMod_Sev}\")\n",
    "    return popChildMod_Sev"
   ]
  },
  {
   "cell_type": "code",
   "execution_count": 9,
   "id": "265f8567",
   "metadata": {},
   "outputs": [],
   "source": [
    "def popChildSevFunc(dataframe, fChildSev):\n",
    "    global popChildSev\n",
    "    population = dataframe[\"N_child\"].astype(\"int\").sum()\n",
    "    popChildSev = fChildSev * population\n",
    "    print(f\"Pop ChildModSev = {popChildSev}\")\n",
    "    return popChildSev"
   ]
  },
  {
   "cell_type": "code",
   "execution_count": 10,
   "id": "c6c1b48f",
   "metadata": {},
   "outputs": [],
   "source": [
    "def calculateChildFoodAtMod_Sev(dataframe):\n",
    "    global fChildMod_Sev\n",
    "    dataframe[\"Prob_Mod_Sev\"].fillna(dataframe[\"Prob_Mod_Sev\"].notnull().astype(\"float\").mean(), inplace=True)\n",
    "    dataframe[\"Wt_child\"].fillna(dataframe[\"Wt_child\"].notnull().astype(\"float\").mean(), inplace=True)\n",
    "\n",
    "    fChildMod_Sev = (dataframe[\"Prob_Mod_Sev\"].astype(\"float\") *\n",
    "                    dataframe[\"Wt_child\"].astype(\"float\")).sum() / dataframe[\"Wt_child\"].astype(\"float\").sum()\n",
    "    print(f\"F childModSev = {fChildMod_Sev}\")\n",
    "    popChildMod_SevFunc(dataframe, fChildMod_Sev)\n",
    "    return dataframe"
   ]
  },
  {
   "cell_type": "code",
   "execution_count": 11,
   "id": "1bbeab10",
   "metadata": {},
   "outputs": [],
   "source": [
    "def calculateChildFoodAtSev(dataframe):\n",
    "    global fChildSev\n",
    "    dataframe[\"Prob_sev\"].fillna(dataframe[\"Prob_sev\"].notnull().astype(\"float\").mean(), inplace=True)\n",
    "    dataframe[\"Wt_child\"].fillna(dataframe[\"Wt_child\"].notnull().astype(\"float\").mean(), inplace=True)\n",
    "\n",
    "    fChildSev = (dataframe[\"Prob_sev\"].astype(\"float\") *\n",
    "                 dataframe[\"Wt_child\"].astype(\"float\")).sum() / dataframe[\"Wt_child\"].astype(\"float\").sum()\n",
    "\n",
    "    print(f\"F childSev = {fChildSev}\")\n",
    "    popChildSevFunc(dataframe, fChildSev)\n",
    "    return dataframe"
   ]
  },
  {
   "cell_type": "markdown",
   "id": "5666d717",
   "metadata": {},
   "source": [
    "### Total food insecure."
   ]
  },
  {
   "cell_type": "code",
   "execution_count": 12,
   "id": "0920944d",
   "metadata": {},
   "outputs": [],
   "source": [
    "def totalMod_SevFunc(popAdMod_Sev, popChildMod_Sev, popAdult, popChild):\n",
    "    total = (popAdMod_Sev + popChildMod_Sev) / (popAdult + popChild)\n",
    "    print(f\"Total Mod_Sev = {total}\")\n",
    "    return total"
   ]
  },
  {
   "cell_type": "code",
   "execution_count": 13,
   "id": "c332fdc0",
   "metadata": {},
   "outputs": [],
   "source": [
    "def totalSevFunc(popAdSev, popChildSev, popAdult, popChild):\n",
    "    total = (popAdSev + popChildSev) / (popAdult + popChild)\n",
    "    print(f\"Total Sev = {total}\")\n",
    "    return total"
   ]
  },
  {
   "cell_type": "code",
   "execution_count": 14,
   "id": "e0eb2da4",
   "metadata": {},
   "outputs": [],
   "source": [
    "def popTotalMod_SevFunc(fToal, popTotal):\n",
    "    total = fToal * popTotal\n",
    "    print(f'Pop Total Mod_SEV = {total}')\n",
    "    return total"
   ]
  },
  {
   "cell_type": "code",
   "execution_count": 15,
   "id": "e14194ad",
   "metadata": {},
   "outputs": [],
   "source": [
    "def popTotalSevFunc(fToal, popTotal):\n",
    "    total = fToal * popTotal\n",
    "    print(f'Pop Total SEV = {total}')\n",
    "    return total"
   ]
  },
  {
   "cell_type": "markdown",
   "id": "59b2794d",
   "metadata": {},
   "source": [
    "### Add year and country column."
   ]
  },
  {
   "cell_type": "code",
   "execution_count": 16,
   "id": "0fdcbc7b",
   "metadata": {},
   "outputs": [],
   "source": [
    "def addYears(dataframe, dir):\n",
    "    year = dir.split(\"_\")[-1]\n",
    "    country = dir.replace('/', '_').split('_')[-2]\n",
    "\n",
    "    dataframe[\"year\"] = year\n",
    "    dataframe[\"country\"] = country\n",
    "    if country not in foodTotalModSevDict:\n",
    "        foodTotalModSevDict[country] = {}\n",
    "    return dataframe, country, year"
   ]
  },
  {
   "cell_type": "markdown",
   "id": "a2ff3958",
   "metadata": {},
   "source": [
    "### Main cycle."
   ]
  },
  {
   "cell_type": "code",
   "execution_count": 17,
   "id": "d092dfc7",
   "metadata": {},
   "outputs": [
    {
     "name": "stdout",
     "output_type": "stream",
     "text": [
      "\n",
      "Lab5/KGZ_2015\n",
      "F AdultModSev = 0.25450719076333794\n",
      "Pop AdultModSev = 751.5597343241369\n",
      "F AdultSev = 0.08826532543116555\n",
      "Pop AdultSev = 260.6475059982319\n",
      "F childModSev = 0.28286003567985013\n",
      "Pop ChildModSev = 481.71064076278475\n",
      "F childSev = 0.1007322374659121\n",
      "Pop ChildModSev = 171.5470004044483\n",
      "Total Mod_Sev = 0.26487765787949347\n",
      "Total Sev = 0.036844287028446804\n",
      "Pop Total Mod_SEV = 1233.2703750869216\n",
      "Pop Total SEV = 171.5470004044483\n",
      "\n",
      "Lab5/KGZ_2014\n",
      "F AdultModSev = 0.2686160855334666\n",
      "Pop AdultModSev = 754.5425842635077\n",
      "F AdultSev = 0.12309877508300224\n",
      "Pop AdultSev = 345.7844592081533\n",
      "F childModSev = 0.2848776580675904\n",
      "Pop ChildModSev = 435.29306152727816\n",
      "F childSev = 0.11989084946798746\n",
      "Pop ChildModSev = 183.19321798708484\n",
      "Total Mod_Sev = 0.27434531837463355\n",
      "Total Sev = 0.042239616782818734\n",
      "Pop Total Mod_SEV = 1189.8356457907857\n",
      "Pop Total SEV = 183.19321798708484\n",
      "\n",
      "Lab5/TAIJ_2017\n",
      "F AdultModSev = 0.42703399329423214\n",
      "Pop AdultModSev = 1277.6857079363426\n",
      "F AdultSev = 0.2668375185164021\n",
      "Pop AdultSev = 798.3778554010751\n",
      "F childModSev = 0.44119904372841023\n",
      "Pop ChildModSev = 1097.2620217525562\n",
      "F childSev = 0.2800630154268552\n",
      "Pop ChildModSev = 696.5167193665889\n",
      "Total Mod_Sev = 0.43346372142524164\n",
      "Total Sev = 0.12712478907950153\n",
      "Pop Total Mod_SEV = 2374.947729688899\n",
      "Pop Total SEV = 696.5167193665889\n",
      "\n",
      "Lab5/TAIJ_2016\n",
      "F AdultModSev = 0.37962178816609393\n",
      "Pop AdultModSev = 1545.4402996241683\n",
      "F AdultSev = 0.25001094310937333\n",
      "Pop AdultSev = 1017.7945493982588\n",
      "F childModSev = 0.4042986872532754\n",
      "Pop ChildModSev = 949.6976163579438\n",
      "F childSev = 0.2634944208620596\n",
      "Pop ChildModSev = 618.948394604978\n",
      "Total Mod_Sev = 0.38865076572930096\n",
      "Total Sev = 0.09640940725934237\n",
      "Pop Total Mod_SEV = 2495.137915982112\n",
      "Pop Total SEV = 618.948394604978\n",
      "\n",
      "Lab5/UZB_2014\n",
      "F AdultModSev = 0.11862667915550518\n",
      "Pop AdultModSev = 453.5097944114963\n",
      "F AdultSev = 0.03792579065023992\n",
      "Pop AdultSev = 144.9902976558672\n",
      "F childModSev = 0.13379523835501128\n",
      "Pop ChildModSev = 210.72750040914278\n",
      "F childSev = 0.0488327810415117\n",
      "Pop ChildModSev = 76.91163014038094\n",
      "Total Mod_Sev = 0.12305248144139293\n",
      "Total Sev = 0.014248171571022775\n",
      "Pop Total Mod_SEV = 664.237294820639\n",
      "Pop Total SEV = 76.91163014038094\n",
      "\n",
      "Lab5/Kazakhstan_2015\n",
      "F AdultModSev = 0.10833418531131406\n",
      "Pop AdultModSev = 305.1774000219717\n",
      "F AdultSev = 0.06827019942087646\n",
      "Pop AdultSev = 192.317151768609\n",
      "F childModSev = 0.10430277536504172\n",
      "Pop ChildModSev = 108.37058360427835\n",
      "F childSev = 0.06214505906661247\n",
      "Pop ChildModSev = 64.56871637021035\n",
      "Total Mod_Sev = 0.10724792106489887\n",
      "Total Sev = 0.01674499905866451\n",
      "Pop Total Mod_SEV = 413.5479836262501\n",
      "Pop Total SEV = 64.56871637021035\n",
      "\n",
      "Lab5/UZB_2015\n",
      "F AdultModSev = 0.1337281899189894\n",
      "Pop AdultModSev = 482.22385284787583\n",
      "F AdultSev = 0.03076289200578743\n",
      "Pop AdultSev = 110.93098857286947\n",
      "F childModSev = 0.13048726764079263\n",
      "Pop ChildModSev = 202.2552648432286\n",
      "F childSev = 0.024254078068145793\n",
      "Pop ChildModSev = 37.593821005625976\n",
      "Total Mod_Sev = 0.13275390180199853\n",
      "Total Sev = 0.007291276378127614\n",
      "Pop Total Mod_SEV = 684.4791176911044\n",
      "Pop Total SEV = 37.593821005625976\n",
      "\n",
      "Lab5/Kazakhstan_2014\n",
      "F AdultModSev = 0.16231480450213137\n",
      "Pop AdultModSev = 437.7630277422483\n",
      "F AdultSev = 0.09504546768907865\n",
      "Pop AdultSev = 256.3376263574451\n",
      "F childModSev = 0.15934214475558897\n",
      "Pop ChildModSev = 148.9849053464757\n",
      "F childSev = 0.08759092586899962\n",
      "Pop ChildModSev = 81.89751568751464\n",
      "Total Mod_Sev = 0.1615495410486575\n",
      "Total Sev = 0.022548875464624075\n",
      "Pop Total Mod_SEV = 586.747933088724\n",
      "Pop Total SEV = 81.89751568751464\n",
      "\n",
      "Lab5/KGZ_2016\n",
      "F AdultModSev = 0.21143802037433193\n",
      "Pop AdultModSev = 569.1911508477016\n",
      "F AdultSev = 0.05375027799738904\n",
      "Pop AdultSev = 144.6957483689713\n",
      "F childModSev = 0.2320711634283463\n",
      "Pop ChildModSev = 427.4750830350139\n",
      "F childSev = 0.054706093060772454\n",
      "Pop ChildModSev = 100.76862341794286\n",
      "Total Mod_Sev = 0.21982051916248688\n",
      "Total Sev = 0.022225104415073416\n",
      "Pop Total Mod_SEV = 996.6662338827155\n",
      "Pop Total SEV = 100.76862341794286\n",
      "\n",
      "Lab5/KGZ_2017\n",
      "F AdultModSev = 0.2212277935899953\n",
      "Pop AdultModSev = 555.5029897044782\n",
      "F AdultSev = 0.06535282976090591\n",
      "Pop AdultSev = 164.10095552963475\n",
      "F childModSev = 0.2626158322357305\n",
      "Pop ChildModSev = 476.6477355078508\n",
      "F childSev = 0.06737363256216217\n",
      "Pop ChildModSev = 122.28314310032434\n",
      "Total Mod_Sev = 0.23859240065009918\n",
      "Total Sev = 0.028267023370393975\n",
      "Pop Total Mod_SEV = 1032.150725212329\n",
      "Pop Total SEV = 122.28314310032434\n",
      "\n",
      "Lab5/TAIJ_2014\n",
      "F AdultModSev = 0.2803618188130671\n",
      "Pop AdultModSev = 1157.053226241528\n",
      "F AdultSev = 0.18062460475394948\n",
      "Pop AdultSev = 745.4377438195495\n",
      "F childModSev = 0.27874314709113673\n",
      "Pop ChildModSev = 654.4889093699891\n",
      "F childSev = 0.1718089812341738\n",
      "Pop ChildModSev = 403.4074879378401\n",
      "Total Mod_Sev = 0.2797748471986899\n",
      "Total Sev = 0.06230231473943476\n",
      "Pop Total Mod_SEV = 1811.542135611517\n",
      "Pop Total SEV = 403.4074879378401\n",
      "\n",
      "Lab5/TAIJ_2015\n",
      "F AdultModSev = 0.2422633391058232\n",
      "Pop AdultModSev = 960.8164028936949\n",
      "F AdultSev = 0.15159237179200596\n",
      "Pop AdultSev = 601.2153465270957\n",
      "F childModSev = 0.2549562960185807\n",
      "Pop ChildModSev = 584.1048741785685\n",
      "F childSev = 0.16118814458960184\n",
      "Pop ChildModSev = 369.2820392547778\n",
      "Total Mod_Sev = 0.24691086416369878\n",
      "Total Sev = 0.059019024972794924\n",
      "Pop Total Mod_SEV = 1544.9212770722634\n",
      "Pop Total SEV = 369.2820392547778\n",
      "\n",
      "Lab5/UZB_2017\n",
      "F AdultModSev = 0.18567370758094195\n",
      "Pop AdultModSev = 650.4149976560396\n",
      "F AdultSev = 0.04866023188724257\n",
      "Pop AdultSev = 170.45679230101072\n",
      "F childModSev = 0.19478420541438476\n",
      "Pop ChildModSev = 319.44609687959104\n",
      "F childSev = 0.04581924800176155\n",
      "Pop ChildModSev = 75.14356672288893\n",
      "Total Mod_Sev = 0.18857886341350003\n",
      "Total Sev = 0.014610843228249841\n",
      "Pop Total Mod_SEV = 969.8610945356306\n",
      "Pop Total SEV = 75.14356672288893\n",
      "\n",
      "Lab5/Kazakhstan_2016\n",
      "F AdultModSev = 0.1376915809414728\n",
      "Pop AdultModSev = 310.7698981849041\n",
      "F AdultSev = 0.0827059274197974\n",
      "Pop AdultSev = 186.66727818648275\n",
      "F childModSev = 0.13153291584874596\n",
      "Pop ChildModSev = 116.80122927368642\n",
      "F childSev = 0.06711565427399618\n",
      "Pop ChildModSev = 59.59870099530861\n",
      "Total Mod_Sev = 0.1359526637388205\n",
      "Total Sev = 0.018950302383245982\n",
      "Pop Total Mod_SEV = 427.57112745859047\n",
      "Pop Total SEV = 59.59870099530861\n",
      "\n",
      "Lab5/UZB_2016\n",
      "F AdultModSev = 0.11683565660925159\n",
      "Pop AdultModSev = 425.2817900576758\n",
      "F AdultSev = 0.029608512398456254\n",
      "Pop AdultSev = 107.77498513038077\n",
      "F childModSev = 0.119741782139756\n",
      "Pop ChildModSev = 186.67743835587962\n",
      "F childSev = 0.026247810189346625\n",
      "Pop ChildModSev = 40.92033608519139\n",
      "Total Mod_Sev = 0.11770710298394987\n",
      "Total Sev = 0.007870809018117212\n",
      "Pop Total Mod_SEV = 611.9592284135554\n",
      "Pop Total SEV = 40.92033608519139\n",
      "\n",
      "Lab5/Kazakhstan_2017\n",
      "F AdultModSev = 0.11964925266592337\n",
      "Pop AdultModSev = 281.29539301758587\n",
      "F AdultSev = 0.046029235560190236\n",
      "Pop AdultSev = 108.21473280200725\n",
      "F childModSev = 0.17667620861714553\n",
      "Pop ChildModSev = 191.34033393236862\n",
      "F childSev = 0.06807505966671266\n",
      "Pop ChildModSev = 73.72528961904982\n",
      "Total Mod_Sev = 0.137634166263819\n",
      "Total Sev = 0.021469216546024992\n",
      "Pop Total Mod_SEV = 472.63572694995446\n",
      "Pop Total SEV = 73.72528961904982\n"
     ]
    }
   ],
   "source": [
    "path = 'Lab5'\n",
    "for dir, folder, files in os.walk(path):\n",
    "    for file in files:\n",
    "        if file[-1:-6:-1][::-1] == \"RData\":\n",
    "            dataFrame = None\n",
    "            try:\n",
    "                result = pyreadr.read_r(f'{dir}/{file}')[\"data\"]\n",
    "                dataFrame = pandas.DataFrame(result)\n",
    "            except pyreadr.custom_errors.LibrdataError as e:\n",
    "\n",
    "                file_path = f'{dir}/{file}'.split(\".\")\n",
    "                dataFrame = pandas.read_stata(file_path[0]+\".dta\")\n",
    "\n",
    "            print(\"\")\n",
    "            print(dir)\n",
    "\n",
    "            dataFrame, country, year = addYears(dataFrame, dir)\n",
    "\n",
    "            dataFrame = calculateChildrenWeight(dataFrame)\n",
    "\n",
    "            dataFrame = calculateAdultFoodAtModAndSev(dataFrame)\n",
    "            dataFrame = calculateAdultFoodAtSev(dataFrame)\n",
    "\n",
    "            dataFrame = calculateChildFoodAtMod_Sev(dataFrame)\n",
    "            dataFrame = calculateChildFoodAtSev(dataFrame)\n",
    "\n",
    "            fTotalModSev = totalMod_SevFunc(popAdMod_Sev, popChildMod_Sev, populationAd, populationChild)\n",
    "            fTotalSev = totalSevFunc(popAdSev, popChildSev, populationAd, populationChild)\n",
    "\n",
    "            popTotalModSev = popTotalMod_SevFunc(fTotalModSev, populationAd+populationChild)\n",
    "            popTotalSev = popTotalSevFunc(fTotalSev, populationAd+populationChild)\n",
    "\n",
    "            centralAsiaDataFramesArray.append(dataFrame)\n",
    "\n",
    "            foodTotalModSevDict[country].update({int(year): fTotalModSev})\n",
    "\n",
    "            with pandas.ExcelWriter(f'{dir}/{file[0:-6]}.xlsx') as writer:\n",
    "                dataFrame.to_excel(writer)"
   ]
  },
  {
   "cell_type": "markdown",
   "id": "889ef485",
   "metadata": {},
   "source": [
    "### Merge all countries to one excel file."
   ]
  },
  {
   "cell_type": "code",
   "execution_count": 18,
   "id": "ec9543ff",
   "metadata": {},
   "outputs": [],
   "source": [
    "centralAsia = pandas.concat(centralAsiaDataFramesArray)\n",
    "centralAsia.reset_index(drop=True, inplace=True)\n",
    "\n",
    "with pandas.ExcelWriter(f'CentralAsia.xlsx') as writer:\n",
    "    centralAsia.to_excel(writer)\n",
    "\n",
    "for i in foodTotalModSevDict:\n",
    "    values = []\n",
    "    years = [2014, 2015, 2016, 2017]\n",
    "    for z in years:\n",
    "        values.append(foodTotalModSevDict[i][z]*100)\n",
    "    foodTotalModSevDict[i] = values"
   ]
  },
  {
   "cell_type": "markdown",
   "id": "5c08787c",
   "metadata": {},
   "source": [
    "### Graphics of food insecure for each Central Asia country."
   ]
  },
  {
   "cell_type": "code",
   "execution_count": 19,
   "id": "4646ce12",
   "metadata": {},
   "outputs": [],
   "source": [
    "# Countryies\n",
    "for i in foodTotalModSevDict:\n",
    "    style.use('ggplot')\n",
    "    x = [2014, 2015, 2016, 2017]\n",
    "    y = foodTotalModSevDict[i]\n",
    "    plt.plot(x, y, 'r', label=i, linewidth=5)\n",
    "    plt.title(i)\n",
    "    plt.savefig(f'{i}.png', bbox_inches='tight')\n",
    "    plt.close()\n"
   ]
  },
  {
   "cell_type": "markdown",
   "id": "4a670059",
   "metadata": {},
   "source": [
    "### Central Asia food insecure graphic."
   ]
  },
  {
   "cell_type": "code",
   "execution_count": 20,
   "id": "9bc40926",
   "metadata": {
    "scrolled": true
   },
   "outputs": [
    {
     "data": {
      "image/png": "[encoded data removed]",
      "text/plain": [
       "<Figure size 432x288 with 1 Axes>"
      ]
     },
     "metadata": {},
     "output_type": "display_data"
    }
   ],
   "source": [
    "# Сentral Asia\n",
    "dfArray = pandas.DataFrame(foodTotalModSevDict).T\n",
    "_2014 = dfArray[0].mean()\n",
    "_2015 = dfArray[1].mean()\n",
    "_2016 = dfArray[2].mean()\n",
    "_2017 = dfArray[3].mean()\n",
    "\n",
    "style.use('ggplot')\n",
    "x = [2014, 2015, 2016, 2017]\n",
    "y = [_2014, _2015, _2016, _2017]\n",
    "plt.plot(x, y, 'g', label=\"Central Asia\", linewidth=5)\n",
    "plt.title(\"Central Asia\")\n",
    "plt.savefig('Central Asia.png', bbox_inches='tight')\n",
    "plt.show()\n",
    "plt.close()"
   ]
  }
 ],
 "metadata": {
  "kernelspec": {
   "display_name": "Python 3 (ipykernel)",
   "language": "python",
   "name": "python3"
  },
  "language_info": {
   "codemirror_mode": {
    "name": "ipython",
    "version": 3
   },
   "file_extension": ".py",
   "mimetype": "text/x-python",
   "name": "python",
   "nbconvert_exporter": "python",
   "pygments_lexer": "ipython3",
   "version": "3.9.12"
  }
 },
 "nbformat": 4,
 "nbformat_minor": 5
}
